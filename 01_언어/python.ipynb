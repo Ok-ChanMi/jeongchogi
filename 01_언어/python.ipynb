{
 "cells": [
  {
   "cell_type": "markdown",
   "id": "e065e2dc",
   "metadata": {},
   "source": [
    "# [기출예제]  \n",
    "23년3회 실기 \n",
    "1. 다음Python 프로그램과 그<실행결과>를분석하여괄호에들어갈알맞은예약어를쓰시오.  \n",
    "첫번째라인의'5 10'은입력받은값에해당한다.\n",
    "\n",
    "<실행결과>  \n",
    "x, y의 값을공백으로구분하여입력: 5 10  \n",
    "x의값: 5  \n",
    "y의값: 10"
   ]
  },
  {
   "cell_type": "code",
   "execution_count": null,
   "id": "9d2cfbbf",
   "metadata": {},
   "outputs": [],
   "source": []
  },
  {
   "cell_type": "markdown",
   "id": "290f7a7b",
   "metadata": {},
   "source": [
    "23년2회실기  \n",
    "2. 다음파이썬코드에서알맞는출력값을작성하시오.  \n",
    "```python\n",
    "a = \"engineer information processing\"  \n",
    "b = a[:3]\n",
    "c = a[4:6]\n",
    "d = a[28:]\n",
    "e=b+c+d\n",
    "print(e)\n",
    "```"
   ]
  },
  {
   "cell_type": "markdown",
   "id": "3d38da01",
   "metadata": {},
   "source": []
  },
  {
   "cell_type": "markdown",
   "id": "b5587aa1",
   "metadata": {},
   "source": [
    "23년1회실기  \n",
    "3. 다음파이썬코드에서알맞는출력값을작성하시오.  \n",
    "```python\n",
    "a = {'한국', '중국', '일본'}\n",
    "a.add('베트남')\n",
    "a.add('중국')\n",
    "a.remove('일본')\n",
    "a.update({'홍콩', '한국', '태국'})\n",
    "print(a)\n",
    "```"
   ]
  },
  {
   "cell_type": "markdown",
   "id": "c2eaa63f",
   "metadata": {},
   "source": []
  },
  {
   "cell_type": "markdown",
   "id": "5aaf78c4",
   "metadata": {},
   "source": [
    "22년3회실기  \n",
    "4. 다음파이썬코드에대한출력값을작성하시오.\n",
    "```python\n",
    "TestList = [1, 2, 3, 4, 5]\n",
    "TestList = list(map(lambda num : num + 100, TestList))\n",
    "\n",
    "print(TestList)\n",
    "```"
   ]
  },
  {
   "cell_type": "markdown",
   "id": "80f72d1d",
   "metadata": {},
   "source": []
  },
  {
   "cell_type": "markdown",
   "id": "1a109e96",
   "metadata": {},
   "source": [
    "22년2회실기  \n",
    "5. 다음파이썬코드에대한출력값을작성하시오.\n",
    "```python\n",
    "a = \"REMEMBER NOVEMBER\"\n",
    "b = a[:3] + a[12:16]\n",
    "c = \"R AND %s\" % \"STR\"\n",
    "print(b+c)\n",
    "```"
   ]
  },
  {
   "cell_type": "markdown",
   "id": "d82fbc24",
   "metadata": {},
   "source": []
  },
  {
   "cell_type": "markdown",
   "id": "9e9b6040",
   "metadata": {},
   "source": [
    "22년1회실기  \n",
    "6. 다음파이썬코드에대한출력값을작성하시오.\n",
    "```python\n",
    "def exam(num1, num2=2)\n",
    "    print('a=', num1, 'b=', num2)\n",
    "exam(20)\n",
    "```"
   ]
  },
  {
   "cell_type": "markdown",
   "id": "65a9b479",
   "metadata": {},
   "source": []
  },
  {
   "cell_type": "markdown",
   "id": "0e92d5a8",
   "metadata": {},
   "source": [
    "21년3회실기  \n",
    "7. 다음파이썬코드에대한출력값을작성하시오.\n",
    "```python \n",
    "a, b = 100, 200\n",
    "print(a==b)\n",
    "```"
   ]
  },
  {
   "cell_type": "markdown",
   "id": "7476c917",
   "metadata": {},
   "source": []
  },
  {
   "cell_type": "markdown",
   "id": "7bd80596",
   "metadata": {},
   "source": [
    "21년2회실기  \n",
    "8. 다음파이썬코드에대한출력값을작성하시오.\n",
    "```python \n",
    "a = 100\n",
    "result = 0\n",
    "for i in range(1, 3):\n",
    "    result = a >> i\n",
    "    resi;t = result + 1\n",
    "print(result)\n"
   ]
  },
  {
   "cell_type": "markdown",
   "id": "9b91e284",
   "metadata": {},
   "source": []
  },
  {
   "cell_type": "markdown",
   "id": "5368018e",
   "metadata": {},
   "source": [
    "21년1회실기  \n",
    "9. 다음파이썬코드에대한출력값을작성하시오.\n",
    "```python\n",
    "class good:\n",
    "    li = ['seoul', 'kyeonggi', 'inchon', 'daejeon', 'daegu', 'pusan']\n",
    "\n",
    "g = good()\n",
    "str01 = ''\n",
    "for i in g.li:\n",
    "    str01 = str01 + i[0]\n",
    "\n",
    "print(str01)\n",
    "```"
   ]
  },
  {
   "cell_type": "markdown",
   "id": "c7188887",
   "metadata": {},
   "source": []
  },
  {
   "cell_type": "markdown",
   "id": "cc6299ef",
   "metadata": {},
   "source": [
    "20년4회 실기  \n",
    "10. 다음파이썬코드에대한출력값을작성하시오.\n",
    "```python\n",
    "lol = [[1,2,3], [4,5], [6,7,8,9]]\n",
    "print(lol[0])\n",
    "print(lol[2][1])\n",
    "for sub in lol:\n",
    "    for item in sub:\n",
    "        print(item, end = '')\n",
    "    print()\n",
    "```"
   ]
  },
  {
   "cell_type": "markdown",
   "id": "d6b67e08",
   "metadata": {},
   "source": []
  },
  {
   "cell_type": "markdown",
   "id": "5a036caf",
   "metadata": {},
   "source": [
    "20년2회실기  \n",
    "11. 다음파이썬코드에대한출력값을작성하시오.\n",
    "```python \n",
    "a={'일본','중국','한국'}\n",
    "a.add('베트남')\n",
    "a.add('중국')\n",
    "a.remove('일본')\n",
    "a.update(['홍콩','한국','태국'])\n",
    "print(a)\n",
    "```"
   ]
  },
  {
   "cell_type": "markdown",
   "id": "b22aef37",
   "metadata": {},
   "source": []
  },
  {
   "cell_type": "markdown",
   "id": "15798864",
   "metadata": {},
   "source": []
  }
 ],
 "metadata": {
  "kernelspec": {
   "display_name": "Python 3",
   "language": "python",
   "name": "python3"
  },
  "language_info": {
   "codemirror_mode": {
    "name": "ipython",
    "version": 3
   },
   "file_extension": ".py",
   "mimetype": "text/x-python",
   "name": "python",
   "nbconvert_exporter": "python",
   "pygments_lexer": "ipython3",
   "version": "3.13.5"
  }
 },
 "nbformat": 4,
 "nbformat_minor": 5
}
